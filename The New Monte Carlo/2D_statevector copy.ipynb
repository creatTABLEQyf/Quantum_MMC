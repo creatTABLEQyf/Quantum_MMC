{
 "cells": [
  {
   "cell_type": "code",
   "execution_count": 1,
   "metadata": {},
   "outputs": [],
   "source": [
    "import qiskit\n",
    "from qiskit import assemble, QuantumCircuit\n",
    "from qiskit.visualization import plot_histogram\n",
    "from qiskit.compiler import transpile\n",
    "from random import *\n",
    "from qiskit import Aer\n",
    "sim = Aer.get_backend(\"statevector_simulator\")\n",
    "import numpy as np\n",
    "import pandas as pd\n",
    "from qiskit.circuit.library.standard_gates import HGate\n",
    "from qiskit.circuit.library import RZGate, RYGate\n",
    "import matplotlib.pyplot as plt\n",
    "from IPython.display import clear_output"
   ]
  },
  {
   "cell_type": "code",
   "execution_count": 2,
   "metadata": {},
   "outputs": [],
   "source": [
    "def neighbor_list(i, j, N):\n",
    "  a = i-1\n",
    "  b = j-1\n",
    "  c = i+1 \n",
    "  d = j+1 \n",
    "  if a < 0: \n",
    "      a = N-1\n",
    "  if b < 0: \n",
    "      b = N-1\n",
    "  if c > N-1: \n",
    "      c = 0 \n",
    "  if d > N-1: \n",
    "      d = 0\n",
    "  left   = (a, j)\n",
    "  above  = (i, b)\n",
    "  right  = (c, j)\n",
    "  below  = (i, d)\n",
    "  return [left, above, right, below]"
   ]
  },
  {
   "cell_type": "code",
   "execution_count": 3,
   "metadata": {},
   "outputs": [],
   "source": [
    "spin, N = 16, 4"
   ]
  },
  {
   "cell_type": "code",
   "execution_count": 4,
   "metadata": {},
   "outputs": [],
   "source": [
    "def single_step_qc(i, temp): \n",
    "    global N, spin \n",
    "    prob1= np.exp(-8/temp)\n",
    "    angle1 = 2*np.arccos(np.sqrt(prob1))\n",
    "    prob2 = np.exp(-4/temp)\n",
    "    angle2 = 2*np.arccos(np.sqrt(prob2))\n",
    "    ### construct neighbor qubit \n",
    "    ising = np.arange(0, N**2).reshape(N,N)\n",
    "    index = np.where(i==ising)\n",
    "    neighbor_qubit = []\n",
    "    for k in neighbor_list(index[0], index[1],N):\n",
    "        neighbor_qubit.append(ising[k][0])\n",
    "    ### construct circuit \n",
    "    qc = QuantumCircuit(spin+4)\n",
    "    aux_qubit = [spin, spin+1, spin+2, spin+3]\n",
    "    # flip first \n",
    "    qc.x(i)\n",
    "    qc.barrier()\n",
    "    for j in range(4): \n",
    "        qc.cx(i, aux_qubit[j])\n",
    "        qc.cx(neighbor_qubit[j], aux_qubit[j])\n",
    "    # rotate or not depends on sign\n",
    "    #####################situation 1 : all same signs #####################\n",
    "    [aux1, aux2, aux3, aux4] = aux_qubit\n",
    "    # default is ferromagnetic\n",
    "    mcry= RYGate(angle1).control(4,label=None )\n",
    "    qc.append(mcry,[aux1, aux2, aux3, aux4, i])\n",
    "    #####################situation 2 : 3 same signs, 1 different signs #####################\n",
    "    mcry_1= RYGate(angle2).control(4,label=None )\n",
    "    mcry_2= RYGate(angle2).control(4,label=None )\n",
    "    mcry_3= RYGate(angle2).control(4,label=None )\n",
    "    mcry_4= RYGate(angle2).control(4,label=None )\n",
    "    mcry_1._ctrl_state=14\n",
    "    mcry_2._ctrl_state=13\n",
    "    mcry_3._ctrl_state=11\n",
    "    mcry_4._ctrl_state=7\n",
    "    qc.append(mcry_1, [aux1, aux2, aux3, aux4, i])\n",
    "    qc.append(mcry_2, [aux1, aux2, aux3, aux4, i])\n",
    "    qc.append(mcry_3, [aux1, aux2, aux3, aux4, i])\n",
    "    qc.append(mcry_4, [aux1, aux2, aux3, aux4, i])\n",
    "    qc.barrier()\n",
    "    return qc"
   ]
  },
  {
   "cell_type": "code",
   "execution_count": 5,
   "metadata": {},
   "outputs": [],
   "source": [
    "def cal_M(state):\n",
    "    M = 0\n",
    "    for i in state:\n",
    "        if i == '1': \n",
    "            M += 1\n",
    "        else: \n",
    "            M -= 1 \n",
    "    return M/16"
   ]
  },
  {
   "cell_type": "code",
   "execution_count": 6,
   "metadata": {},
   "outputs": [],
   "source": [
    "def phase_space_sweep(temp, circuit_size = 32):\n",
    "    # MC_sweep\n",
    "    qc = QuantumCircuit(spin+4)\n",
    "    # for 4x4 ising model at least need to repeat 16 circuits to get all basis (2**16)\n",
    "    # I used 32 to make sure that we can cover the whole phase space\n",
    "    # could change this number\n",
    "    for _ in range(circuit_size):\n",
    "        pick = randint(0, spin-1)\n",
    "        qc.compose(single_step_qc(pick, temp), inplace=True)\n",
    "    return qc"
   ]
  },
  {
   "cell_type": "code",
   "execution_count": 12,
   "metadata": {},
   "outputs": [],
   "source": [
    "def measure_state(qc, sim): \n",
    "    qc = transpile(qc,sim)\n",
    "    final_counts = sim.run(qc, shots=1).result().get_counts()\n",
    "    prob, state = max(final_counts.values()), max(final_counts, key = final_counts.get)\n",
    "    mag = abs(cal_M(state))\n",
    "    return prob, 'st:'+state, mag\n",
    "\n",
    "def measure(circuit):\n",
    "    circuit.remove_final_measurements()\n",
    "    circuit.measure_all()\n",
    "    backend = Aer.get_backend('statevector_simulator')\n",
    "    circuit = transpile(circuit, backend )\n",
    "    final_counts = backend.run(circuit, shots=1).result().get_counts()\n",
    "    print(final_counts)\n",
    "    state = max(final_counts, key= final_counts.get)[4:]\n",
    "    mag = abs(cal_M(state))\n",
    "    print(\"Most probably state: \", state)\n",
    "    print(\"Magnetization: \", mag) \n",
    "    return state, mag"
   ]
  },
  {
   "cell_type": "code",
   "execution_count": 10,
   "metadata": {},
   "outputs": [
    {
     "name": "stdout",
     "output_type": "stream",
     "text": [
      "0.019267985132501\n",
      "01010010111000100101\n",
      "CPU times: user 20.3 s, sys: 2.6 s, total: 22.9 s\n",
      "Wall time: 10.8 s\n"
     ]
    }
   ],
   "source": [
    "%%time\n",
    "qc = phase_space_sweep(4)\n",
    "superpositions = measure_state(qc, sim)\n",
    "f_prob, f_state = max(superpositions.values()), max(superpositions, key = superpositions.get)\n",
    "print(f_prob)\n",
    "print(f_state)"
   ]
  },
  {
   "cell_type": "code",
   "execution_count": 11,
   "metadata": {},
   "outputs": [
    {
     "name": "stdout",
     "output_type": "stream",
     "text": [
      "-0.125\n"
     ]
    }
   ],
   "source": [
    "print(cal_M(f_state))"
   ]
  },
  {
   "cell_type": "code",
   "execution_count": 13,
   "metadata": {},
   "outputs": [],
   "source": [
    "# Average of many results from circuit size 32\n",
    "temps = np.linspace(0.01, 15, 20)\n",
    "df = pd.DataFrame()\n",
    "\n",
    "for temp in temps:\n",
    "    magnetization = []\n",
    "    for i in range(10):\n",
    "        qc = phase_space_sweep(temp)\n",
    "        prob, state, mag = measure_state(qc, sim)\n",
    "        magnetization.append(mag)\n",
    "    df['kT='+str(temp)] = magnetization\n",
    "\n",
    "df.to_csv('Circuit 32_Samples 10_statevector.csv')"
   ]
  },
  {
   "cell_type": "code",
   "execution_count": 14,
   "metadata": {},
   "outputs": [],
   "source": [
    "# Average of many results from circuit size 32\n",
    "temps = np.linspace(0.01, 15, 20)\n",
    "df = pd.DataFrame()\n",
    "\n",
    "for temp in temps:\n",
    "    magnetization = []\n",
    "    for i in range(10):\n",
    "        qc = phase_space_sweep(temp, 64)\n",
    "        prob, state, mag = measure_state(qc, sim)\n",
    "        magnetization.append(mag)\n",
    "    df['kT='+str(temp)] = magnetization\n",
    "\n",
    "df.to_csv('Circuit 64_Samples 10_statevector.csv')"
   ]
  },
  {
   "cell_type": "code",
   "execution_count": 15,
   "metadata": {},
   "outputs": [],
   "source": [
    "#Circuit size 256\n",
    "temps = np.linspace(0.01, 15, 20)\n",
    "df = pd.DataFrame()\n",
    "\n",
    "magnetization = []\n",
    "for temp in temps:\n",
    "    qc = phase_space_sweep(temp, 256)\n",
    "    prob, state, mag = measure_state(qc, sim)\n",
    "    magnetization.append(mag)\n",
    "df['kT'] = temps\n",
    "df['Magnetization'] = magnetization\n",
    "\n",
    "df.to_csv('Circuit 256_Samples 1_statevector.csv')"
   ]
  },
  {
   "cell_type": "code",
   "execution_count": 16,
   "metadata": {},
   "outputs": [
    {
     "ename": "KeyboardInterrupt",
     "evalue": "",
     "output_type": "error",
     "traceback": [
      "\u001b[0;31m---------------------------------------------------------------------------\u001b[0m",
      "\u001b[0;31mKeyboardInterrupt\u001b[0m                         Traceback (most recent call last)",
      "Input \u001b[0;32mIn [16]\u001b[0m, in \u001b[0;36m<cell line: 6>\u001b[0;34m()\u001b[0m\n\u001b[1;32m      6\u001b[0m \u001b[38;5;28;01mfor\u001b[39;00m temp \u001b[38;5;129;01min\u001b[39;00m temps:\n\u001b[1;32m      7\u001b[0m     qc \u001b[38;5;241m=\u001b[39m phase_space_sweep(temp, \u001b[38;5;241m512\u001b[39m)\n\u001b[0;32m----> 8\u001b[0m     prob, state, mag \u001b[38;5;241m=\u001b[39m \u001b[43mmeasure_state\u001b[49m\u001b[43m(\u001b[49m\u001b[43mqc\u001b[49m\u001b[43m,\u001b[49m\u001b[43m \u001b[49m\u001b[43msim\u001b[49m\u001b[43m)\u001b[49m\n\u001b[1;32m      9\u001b[0m     magnetization\u001b[38;5;241m.\u001b[39mappend(mag)\n\u001b[1;32m     10\u001b[0m df[\u001b[38;5;124m'\u001b[39m\u001b[38;5;124mkT\u001b[39m\u001b[38;5;124m'\u001b[39m] \u001b[38;5;241m=\u001b[39m temps\n",
      "Input \u001b[0;32mIn [12]\u001b[0m, in \u001b[0;36mmeasure_state\u001b[0;34m(qc, sim)\u001b[0m\n\u001b[1;32m      1\u001b[0m \u001b[38;5;28;01mdef\u001b[39;00m \u001b[38;5;21mmeasure_state\u001b[39m(qc, sim): \n\u001b[0;32m----> 2\u001b[0m     qc \u001b[38;5;241m=\u001b[39m \u001b[43mtranspile\u001b[49m\u001b[43m(\u001b[49m\u001b[43mqc\u001b[49m\u001b[43m,\u001b[49m\u001b[43msim\u001b[49m\u001b[43m)\u001b[49m\n\u001b[1;32m      3\u001b[0m     final_counts \u001b[38;5;241m=\u001b[39m sim\u001b[38;5;241m.\u001b[39mrun(qc, shot\u001b[38;5;241m=\u001b[39m\u001b[38;5;241m1\u001b[39m)\u001b[38;5;241m.\u001b[39mresult()\u001b[38;5;241m.\u001b[39mget_counts()\n\u001b[1;32m      4\u001b[0m     prob, state \u001b[38;5;241m=\u001b[39m \u001b[38;5;28mmax\u001b[39m(final_counts\u001b[38;5;241m.\u001b[39mvalues()), \u001b[38;5;28mmax\u001b[39m(final_counts, key \u001b[38;5;241m=\u001b[39m final_counts\u001b[38;5;241m.\u001b[39mget)\n",
      "File \u001b[0;32m~/opt/anaconda3/envs/qiskit_latest/lib/python3.10/site-packages/qiskit/compiler/transpiler.py:382\u001b[0m, in \u001b[0;36mtranspile\u001b[0;34m(circuits, backend, basis_gates, inst_map, coupling_map, backend_properties, initial_layout, layout_method, routing_method, translation_method, scheduling_method, instruction_durations, dt, approximation_degree, timing_constraints, seed_transpiler, optimization_level, callback, output_name, unitary_synthesis_method, unitary_synthesis_plugin_config, target, hls_config, init_method, optimization_method, ignore_backend_supplied_default_methods)\u001b[0m\n\u001b[1;32m    379\u001b[0m     \u001b[38;5;28;01mfor\u001b[39;00m circuit, unique_args \u001b[38;5;129;01min\u001b[39;00m \u001b[38;5;28mzip\u001b[39m(circuits, unique_transpile_args):\n\u001b[1;32m    380\u001b[0m         transpile_config, pass_manager \u001b[38;5;241m=\u001b[39m _combine_args(shared_args, unique_args)\n\u001b[1;32m    381\u001b[0m         output_circuits\u001b[38;5;241m.\u001b[39mappend(\n\u001b[0;32m--> 382\u001b[0m             \u001b[43m_serial_transpile_circuit\u001b[49m\u001b[43m(\u001b[49m\n\u001b[1;32m    383\u001b[0m \u001b[43m                \u001b[49m\u001b[43mcircuit\u001b[49m\u001b[43m,\u001b[49m\n\u001b[1;32m    384\u001b[0m \u001b[43m                \u001b[49m\u001b[43mpass_manager\u001b[49m\u001b[43m,\u001b[49m\n\u001b[1;32m    385\u001b[0m \u001b[43m                \u001b[49m\u001b[43mtranspile_config\u001b[49m\u001b[43m[\u001b[49m\u001b[38;5;124;43m\"\u001b[39;49m\u001b[38;5;124;43mcallback\u001b[39;49m\u001b[38;5;124;43m\"\u001b[39;49m\u001b[43m]\u001b[49m\u001b[43m,\u001b[49m\n\u001b[1;32m    386\u001b[0m \u001b[43m                \u001b[49m\u001b[43mtranspile_config\u001b[49m\u001b[43m[\u001b[49m\u001b[38;5;124;43m\"\u001b[39;49m\u001b[38;5;124;43moutput_name\u001b[39;49m\u001b[38;5;124;43m\"\u001b[39;49m\u001b[43m]\u001b[49m\u001b[43m,\u001b[49m\n\u001b[1;32m    387\u001b[0m \u001b[43m                \u001b[49m\u001b[43mtranspile_config\u001b[49m\u001b[43m[\u001b[49m\u001b[38;5;124;43m\"\u001b[39;49m\u001b[38;5;124;43mbackend_num_qubits\u001b[39;49m\u001b[38;5;124;43m\"\u001b[39;49m\u001b[43m]\u001b[49m\u001b[43m,\u001b[49m\n\u001b[1;32m    388\u001b[0m \u001b[43m                \u001b[49m\u001b[43mtranspile_config\u001b[49m\u001b[43m[\u001b[49m\u001b[38;5;124;43m\"\u001b[39;49m\u001b[38;5;124;43mfaulty_qubits_map\u001b[39;49m\u001b[38;5;124;43m\"\u001b[39;49m\u001b[43m]\u001b[49m\u001b[43m,\u001b[49m\n\u001b[1;32m    389\u001b[0m \u001b[43m                \u001b[49m\u001b[43mtranspile_config\u001b[49m\u001b[43m[\u001b[49m\u001b[38;5;124;43m\"\u001b[39;49m\u001b[38;5;124;43mpass_manager_config\u001b[39;49m\u001b[38;5;124;43m\"\u001b[39;49m\u001b[43m]\u001b[49m\u001b[38;5;241;43m.\u001b[39;49m\u001b[43mbackend_properties\u001b[49m\u001b[43m,\u001b[49m\n\u001b[1;32m    390\u001b[0m \u001b[43m            \u001b[49m\u001b[43m)\u001b[49m\n\u001b[1;32m    391\u001b[0m         )\n\u001b[1;32m    392\u001b[0m     circuits \u001b[38;5;241m=\u001b[39m output_circuits\n\u001b[1;32m    393\u001b[0m end_time \u001b[38;5;241m=\u001b[39m time()\n",
      "File \u001b[0;32m~/opt/anaconda3/envs/qiskit_latest/lib/python3.10/site-packages/qiskit/compiler/transpiler.py:475\u001b[0m, in \u001b[0;36m_serial_transpile_circuit\u001b[0;34m(circuit, pass_manager, callback, output_name, num_qubits, faulty_qubits_map, backend_prop)\u001b[0m\n\u001b[1;32m    466\u001b[0m \u001b[38;5;28;01mdef\u001b[39;00m \u001b[38;5;21m_serial_transpile_circuit\u001b[39m(\n\u001b[1;32m    467\u001b[0m     circuit,\n\u001b[1;32m    468\u001b[0m     pass_manager,\n\u001b[0;32m   (...)\u001b[0m\n\u001b[1;32m    473\u001b[0m     backend_prop\u001b[38;5;241m=\u001b[39m\u001b[38;5;28;01mNone\u001b[39;00m,\n\u001b[1;32m    474\u001b[0m ):\n\u001b[0;32m--> 475\u001b[0m     result \u001b[38;5;241m=\u001b[39m \u001b[43mpass_manager\u001b[49m\u001b[38;5;241;43m.\u001b[39;49m\u001b[43mrun\u001b[49m\u001b[43m(\u001b[49m\u001b[43mcircuit\u001b[49m\u001b[43m,\u001b[49m\u001b[43m \u001b[49m\u001b[43mcallback\u001b[49m\u001b[38;5;241;43m=\u001b[39;49m\u001b[43mcallback\u001b[49m\u001b[43m,\u001b[49m\u001b[43m \u001b[49m\u001b[43moutput_name\u001b[49m\u001b[38;5;241;43m=\u001b[39;49m\u001b[43moutput_name\u001b[49m\u001b[43m)\u001b[49m\n\u001b[1;32m    476\u001b[0m     \u001b[38;5;28;01mif\u001b[39;00m faulty_qubits_map:\n\u001b[1;32m    477\u001b[0m         \u001b[38;5;28;01mreturn\u001b[39;00m _remap_circuit_faulty_backend(\n\u001b[1;32m    478\u001b[0m             result,\n\u001b[1;32m    479\u001b[0m             num_qubits,\n\u001b[1;32m    480\u001b[0m             backend_prop,\n\u001b[1;32m    481\u001b[0m             faulty_qubits_map,\n\u001b[1;32m    482\u001b[0m         )\n",
      "File \u001b[0;32m~/opt/anaconda3/envs/qiskit_latest/lib/python3.10/site-packages/qiskit/transpiler/passmanager.py:528\u001b[0m, in \u001b[0;36mStagedPassManager.run\u001b[0;34m(self, circuits, output_name, callback)\u001b[0m\n\u001b[1;32m    521\u001b[0m \u001b[38;5;28;01mdef\u001b[39;00m \u001b[38;5;21mrun\u001b[39m(\n\u001b[1;32m    522\u001b[0m     \u001b[38;5;28mself\u001b[39m,\n\u001b[1;32m    523\u001b[0m     circuits: Union[QuantumCircuit, List[QuantumCircuit]],\n\u001b[1;32m    524\u001b[0m     output_name: \u001b[38;5;28mstr\u001b[39m \u001b[38;5;241m=\u001b[39m \u001b[38;5;28;01mNone\u001b[39;00m,\n\u001b[1;32m    525\u001b[0m     callback: Callable \u001b[38;5;241m=\u001b[39m \u001b[38;5;28;01mNone\u001b[39;00m,\n\u001b[1;32m    526\u001b[0m ) \u001b[38;5;241m-\u001b[39m\u001b[38;5;241m>\u001b[39m Union[QuantumCircuit, List[QuantumCircuit]]:\n\u001b[1;32m    527\u001b[0m     \u001b[38;5;28mself\u001b[39m\u001b[38;5;241m.\u001b[39m_update_passmanager()\n\u001b[0;32m--> 528\u001b[0m     \u001b[38;5;28;01mreturn\u001b[39;00m \u001b[38;5;28;43msuper\u001b[39;49m\u001b[43m(\u001b[49m\u001b[43m)\u001b[49m\u001b[38;5;241;43m.\u001b[39;49m\u001b[43mrun\u001b[49m\u001b[43m(\u001b[49m\u001b[43mcircuits\u001b[49m\u001b[43m,\u001b[49m\u001b[43m \u001b[49m\u001b[43moutput_name\u001b[49m\u001b[43m,\u001b[49m\u001b[43m \u001b[49m\u001b[43mcallback\u001b[49m\u001b[43m)\u001b[49m\n",
      "File \u001b[0;32m~/opt/anaconda3/envs/qiskit_latest/lib/python3.10/site-packages/qiskit/transpiler/passmanager.py:228\u001b[0m, in \u001b[0;36mPassManager.run\u001b[0;34m(self, circuits, output_name, callback)\u001b[0m\n\u001b[1;32m    226\u001b[0m     \u001b[38;5;28;01mreturn\u001b[39;00m circuits\n\u001b[1;32m    227\u001b[0m \u001b[38;5;28;01mif\u001b[39;00m \u001b[38;5;28misinstance\u001b[39m(circuits, QuantumCircuit):\n\u001b[0;32m--> 228\u001b[0m     \u001b[38;5;28;01mreturn\u001b[39;00m \u001b[38;5;28;43mself\u001b[39;49m\u001b[38;5;241;43m.\u001b[39;49m\u001b[43m_run_single_circuit\u001b[49m\u001b[43m(\u001b[49m\u001b[43mcircuits\u001b[49m\u001b[43m,\u001b[49m\u001b[43m \u001b[49m\u001b[43moutput_name\u001b[49m\u001b[43m,\u001b[49m\u001b[43m \u001b[49m\u001b[43mcallback\u001b[49m\u001b[43m)\u001b[49m\n\u001b[1;32m    229\u001b[0m \u001b[38;5;28;01mif\u001b[39;00m \u001b[38;5;28mlen\u001b[39m(circuits) \u001b[38;5;241m==\u001b[39m \u001b[38;5;241m1\u001b[39m:\n\u001b[1;32m    230\u001b[0m     \u001b[38;5;28;01mreturn\u001b[39;00m \u001b[38;5;28mself\u001b[39m\u001b[38;5;241m.\u001b[39m_run_single_circuit(circuits[\u001b[38;5;241m0\u001b[39m], output_name, callback)\n",
      "File \u001b[0;32m~/opt/anaconda3/envs/qiskit_latest/lib/python3.10/site-packages/qiskit/transpiler/passmanager.py:283\u001b[0m, in \u001b[0;36mPassManager._run_single_circuit\u001b[0;34m(self, circuit, output_name, callback)\u001b[0m\n\u001b[1;32m    271\u001b[0m \u001b[38;5;124;03m\"\"\"Run all the passes on a ``circuit``.\u001b[39;00m\n\u001b[1;32m    272\u001b[0m \n\u001b[1;32m    273\u001b[0m \u001b[38;5;124;03mArgs:\u001b[39;00m\n\u001b[0;32m   (...)\u001b[0m\n\u001b[1;32m    280\u001b[0m \u001b[38;5;124;03m    The transformed circuit.\u001b[39;00m\n\u001b[1;32m    281\u001b[0m \u001b[38;5;124;03m\"\"\"\u001b[39;00m\n\u001b[1;32m    282\u001b[0m running_passmanager \u001b[38;5;241m=\u001b[39m \u001b[38;5;28mself\u001b[39m\u001b[38;5;241m.\u001b[39m_create_running_passmanager()\n\u001b[0;32m--> 283\u001b[0m result \u001b[38;5;241m=\u001b[39m \u001b[43mrunning_passmanager\u001b[49m\u001b[38;5;241;43m.\u001b[39;49m\u001b[43mrun\u001b[49m\u001b[43m(\u001b[49m\u001b[43mcircuit\u001b[49m\u001b[43m,\u001b[49m\u001b[43m \u001b[49m\u001b[43moutput_name\u001b[49m\u001b[38;5;241;43m=\u001b[39;49m\u001b[43moutput_name\u001b[49m\u001b[43m,\u001b[49m\u001b[43m \u001b[49m\u001b[43mcallback\u001b[49m\u001b[38;5;241;43m=\u001b[39;49m\u001b[43mcallback\u001b[49m\u001b[43m)\u001b[49m\n\u001b[1;32m    284\u001b[0m \u001b[38;5;28mself\u001b[39m\u001b[38;5;241m.\u001b[39mproperty_set \u001b[38;5;241m=\u001b[39m running_passmanager\u001b[38;5;241m.\u001b[39mproperty_set\n\u001b[1;32m    285\u001b[0m \u001b[38;5;28;01mreturn\u001b[39;00m result\n",
      "File \u001b[0;32m~/opt/anaconda3/envs/qiskit_latest/lib/python3.10/site-packages/qiskit/transpiler/runningpassmanager.py:125\u001b[0m, in \u001b[0;36mRunningPassManager.run\u001b[0;34m(***failed resolving arguments***)\u001b[0m\n\u001b[1;32m    123\u001b[0m \u001b[38;5;28;01mfor\u001b[39;00m passset \u001b[38;5;129;01min\u001b[39;00m \u001b[38;5;28mself\u001b[39m\u001b[38;5;241m.\u001b[39mworking_list:\n\u001b[1;32m    124\u001b[0m     \u001b[38;5;28;01mfor\u001b[39;00m pass_ \u001b[38;5;129;01min\u001b[39;00m passset:\n\u001b[0;32m--> 125\u001b[0m         dag \u001b[38;5;241m=\u001b[39m \u001b[38;5;28;43mself\u001b[39;49m\u001b[38;5;241;43m.\u001b[39;49m\u001b[43m_do_pass\u001b[49m\u001b[43m(\u001b[49m\u001b[43mpass_\u001b[49m\u001b[43m,\u001b[49m\u001b[43m \u001b[49m\u001b[43mdag\u001b[49m\u001b[43m,\u001b[49m\u001b[43m \u001b[49m\u001b[43mpassset\u001b[49m\u001b[38;5;241;43m.\u001b[39;49m\u001b[43moptions\u001b[49m\u001b[43m)\u001b[49m\n\u001b[1;32m    127\u001b[0m circuit \u001b[38;5;241m=\u001b[39m dag_to_circuit(dag)\n\u001b[1;32m    128\u001b[0m \u001b[38;5;28;01mif\u001b[39;00m output_name:\n",
      "File \u001b[0;32m~/opt/anaconda3/envs/qiskit_latest/lib/python3.10/site-packages/qiskit/transpiler/runningpassmanager.py:172\u001b[0m, in \u001b[0;36mRunningPassManager._do_pass\u001b[0;34m(self, pass_, dag, options)\u001b[0m\n\u001b[1;32m    170\u001b[0m \u001b[38;5;66;03m# Run the pass itself, if not already run\u001b[39;00m\n\u001b[1;32m    171\u001b[0m \u001b[38;5;28;01mif\u001b[39;00m pass_ \u001b[38;5;129;01mnot\u001b[39;00m \u001b[38;5;129;01min\u001b[39;00m \u001b[38;5;28mself\u001b[39m\u001b[38;5;241m.\u001b[39mvalid_passes:\n\u001b[0;32m--> 172\u001b[0m     dag \u001b[38;5;241m=\u001b[39m \u001b[38;5;28;43mself\u001b[39;49m\u001b[38;5;241;43m.\u001b[39;49m\u001b[43m_run_this_pass\u001b[49m\u001b[43m(\u001b[49m\u001b[43mpass_\u001b[49m\u001b[43m,\u001b[49m\u001b[43m \u001b[49m\u001b[43mdag\u001b[49m\u001b[43m)\u001b[49m\n\u001b[1;32m    174\u001b[0m     \u001b[38;5;66;03m# update the valid_passes property\u001b[39;00m\n\u001b[1;32m    175\u001b[0m     \u001b[38;5;28mself\u001b[39m\u001b[38;5;241m.\u001b[39m_update_valid_passes(pass_)\n",
      "File \u001b[0;32m~/opt/anaconda3/envs/qiskit_latest/lib/python3.10/site-packages/qiskit/transpiler/runningpassmanager.py:201\u001b[0m, in \u001b[0;36mRunningPassManager._run_this_pass\u001b[0;34m(self, pass_, dag)\u001b[0m\n\u001b[1;32m    198\u001b[0m \u001b[38;5;28;01mif\u001b[39;00m pass_\u001b[38;5;241m.\u001b[39mis_transformation_pass:\n\u001b[1;32m    199\u001b[0m     \u001b[38;5;66;03m# Measure time if we have a callback or logging set\u001b[39;00m\n\u001b[1;32m    200\u001b[0m     start_time \u001b[38;5;241m=\u001b[39m time()\n\u001b[0;32m--> 201\u001b[0m     new_dag \u001b[38;5;241m=\u001b[39m \u001b[43mpass_\u001b[49m\u001b[38;5;241;43m.\u001b[39;49m\u001b[43mrun\u001b[49m\u001b[43m(\u001b[49m\u001b[43mdag\u001b[49m\u001b[43m)\u001b[49m\n\u001b[1;32m    202\u001b[0m     end_time \u001b[38;5;241m=\u001b[39m time()\n\u001b[1;32m    203\u001b[0m     run_time \u001b[38;5;241m=\u001b[39m end_time \u001b[38;5;241m-\u001b[39m start_time\n",
      "File \u001b[0;32m~/opt/anaconda3/envs/qiskit_latest/lib/python3.10/site-packages/qiskit/transpiler/passes/utils/control_flow.py:56\u001b[0m, in \u001b[0;36mtrivial_recurse.<locals>.out\u001b[0;34m(self, dag)\u001b[0m\n\u001b[1;32m     54\u001b[0m \u001b[38;5;28;01mfor\u001b[39;00m node \u001b[38;5;129;01min\u001b[39;00m dag\u001b[38;5;241m.\u001b[39mop_nodes(ControlFlowOp):\n\u001b[1;32m     55\u001b[0m     node\u001b[38;5;241m.\u001b[39mop \u001b[38;5;241m=\u001b[39m map_blocks(bound_wrapped_method, node\u001b[38;5;241m.\u001b[39mop)\n\u001b[0;32m---> 56\u001b[0m \u001b[38;5;28;01mreturn\u001b[39;00m \u001b[43mmethod\u001b[49m\u001b[43m(\u001b[49m\u001b[38;5;28;43mself\u001b[39;49m\u001b[43m,\u001b[49m\u001b[43m \u001b[49m\u001b[43mdag\u001b[49m\u001b[43m)\u001b[49m\n",
      "File \u001b[0;32m~/opt/anaconda3/envs/qiskit_latest/lib/python3.10/site-packages/qiskit/transpiler/passes/optimization/optimize_1q_decomposition.py:170\u001b[0m, in \u001b[0;36mOptimize1qGatesDecomposition.run\u001b[0;34m(self, dag)\u001b[0m\n\u001b[1;32m    167\u001b[0m     \u001b[38;5;28;01mif\u001b[39;00m \u001b[38;5;124m\"\u001b[39m\u001b[38;5;124mu2\u001b[39m\u001b[38;5;124m\"\u001b[39m \u001b[38;5;129;01mnot\u001b[39;00m \u001b[38;5;129;01min\u001b[39;00m \u001b[38;5;28mself\u001b[39m\u001b[38;5;241m.\u001b[39m_target_basis \u001b[38;5;129;01mand\u001b[39;00m \u001b[38;5;124m\"\u001b[39m\u001b[38;5;124mu1\u001b[39m\u001b[38;5;124m\"\u001b[39m \u001b[38;5;129;01mnot\u001b[39;00m \u001b[38;5;129;01min\u001b[39;00m \u001b[38;5;28mself\u001b[39m\u001b[38;5;241m.\u001b[39m_target_basis:\n\u001b[1;32m    168\u001b[0m         \u001b[38;5;28;01mcontinue\u001b[39;00m\n\u001b[0;32m--> 170\u001b[0m new_basis, new_circ \u001b[38;5;241m=\u001b[39m \u001b[38;5;28;43mself\u001b[39;49m\u001b[38;5;241;43m.\u001b[39;49m\u001b[43m_resynthesize_run\u001b[49m\u001b[43m(\u001b[49m\u001b[43mrun\u001b[49m\u001b[43m)\u001b[49m\n\u001b[1;32m    172\u001b[0m \u001b[38;5;28;01mif\u001b[39;00m new_circ \u001b[38;5;129;01mis\u001b[39;00m \u001b[38;5;129;01mnot\u001b[39;00m \u001b[38;5;28;01mNone\u001b[39;00m \u001b[38;5;129;01mand\u001b[39;00m \u001b[38;5;28mself\u001b[39m\u001b[38;5;241m.\u001b[39m_substitution_checks(dag, run, new_circ, new_basis):\n\u001b[1;32m    173\u001b[0m     new_dag \u001b[38;5;241m=\u001b[39m circuit_to_dag(new_circ)\n",
      "File \u001b[0;32m~/opt/anaconda3/envs/qiskit_latest/lib/python3.10/site-packages/qiskit/transpiler/passes/optimization/optimize_1q_decomposition.py:79\u001b[0m, in \u001b[0;36mOptimize1qGatesDecomposition._resynthesize_run\u001b[0;34m(self, run)\u001b[0m\n\u001b[1;32m     76\u001b[0m \u001b[38;5;28;01mfor\u001b[39;00m gate \u001b[38;5;129;01min\u001b[39;00m run[\u001b[38;5;241m1\u001b[39m:]:\n\u001b[1;32m     77\u001b[0m     operator \u001b[38;5;241m=\u001b[39m gate\u001b[38;5;241m.\u001b[39mop\u001b[38;5;241m.\u001b[39mto_matrix()\u001b[38;5;241m.\u001b[39mdot(operator)\n\u001b[0;32m---> 79\u001b[0m new_circs \u001b[38;5;241m=\u001b[39m {k: v\u001b[38;5;241m.\u001b[39m_decompose(operator) \u001b[38;5;28;01mfor\u001b[39;00m k, v \u001b[38;5;129;01min\u001b[39;00m \u001b[38;5;28mself\u001b[39m\u001b[38;5;241m.\u001b[39m_decomposers\u001b[38;5;241m.\u001b[39mitems()}\n\u001b[1;32m     81\u001b[0m new_basis, new_circ \u001b[38;5;241m=\u001b[39m \u001b[38;5;28;01mNone\u001b[39;00m, \u001b[38;5;28;01mNone\u001b[39;00m\n\u001b[1;32m     82\u001b[0m \u001b[38;5;28;01mif\u001b[39;00m \u001b[38;5;28mlen\u001b[39m(new_circs) \u001b[38;5;241m>\u001b[39m \u001b[38;5;241m0\u001b[39m:\n",
      "File \u001b[0;32m~/opt/anaconda3/envs/qiskit_latest/lib/python3.10/site-packages/qiskit/transpiler/passes/optimization/optimize_1q_decomposition.py:79\u001b[0m, in \u001b[0;36m<dictcomp>\u001b[0;34m(.0)\u001b[0m\n\u001b[1;32m     76\u001b[0m \u001b[38;5;28;01mfor\u001b[39;00m gate \u001b[38;5;129;01min\u001b[39;00m run[\u001b[38;5;241m1\u001b[39m:]:\n\u001b[1;32m     77\u001b[0m     operator \u001b[38;5;241m=\u001b[39m gate\u001b[38;5;241m.\u001b[39mop\u001b[38;5;241m.\u001b[39mto_matrix()\u001b[38;5;241m.\u001b[39mdot(operator)\n\u001b[0;32m---> 79\u001b[0m new_circs \u001b[38;5;241m=\u001b[39m {k: \u001b[43mv\u001b[49m\u001b[38;5;241;43m.\u001b[39;49m\u001b[43m_decompose\u001b[49m\u001b[43m(\u001b[49m\u001b[43moperator\u001b[49m\u001b[43m)\u001b[49m \u001b[38;5;28;01mfor\u001b[39;00m k, v \u001b[38;5;129;01min\u001b[39;00m \u001b[38;5;28mself\u001b[39m\u001b[38;5;241m.\u001b[39m_decomposers\u001b[38;5;241m.\u001b[39mitems()}\n\u001b[1;32m     81\u001b[0m new_basis, new_circ \u001b[38;5;241m=\u001b[39m \u001b[38;5;28;01mNone\u001b[39;00m, \u001b[38;5;28;01mNone\u001b[39;00m\n\u001b[1;32m     82\u001b[0m \u001b[38;5;28;01mif\u001b[39;00m \u001b[38;5;28mlen\u001b[39m(new_circs) \u001b[38;5;241m>\u001b[39m \u001b[38;5;241m0\u001b[39m:\n",
      "File \u001b[0;32m~/opt/anaconda3/envs/qiskit_latest/lib/python3.10/site-packages/qiskit/quantum_info/synthesis/one_qubit_decompose.py:167\u001b[0m, in \u001b[0;36mOneQubitEulerDecomposer._decompose\u001b[0;34m(self, unitary, simplify, atol)\u001b[0m\n\u001b[1;32m    165\u001b[0m \u001b[38;5;28;01mdef\u001b[39;00m \u001b[38;5;21m_decompose\u001b[39m(\u001b[38;5;28mself\u001b[39m, unitary, simplify\u001b[38;5;241m=\u001b[39m\u001b[38;5;28;01mTrue\u001b[39;00m, atol\u001b[38;5;241m=\u001b[39mDEFAULT_ATOL):\n\u001b[1;32m    166\u001b[0m     theta, phi, lam, phase \u001b[38;5;241m=\u001b[39m \u001b[38;5;28mself\u001b[39m\u001b[38;5;241m.\u001b[39m_params(unitary)\n\u001b[0;32m--> 167\u001b[0m     circuit \u001b[38;5;241m=\u001b[39m \u001b[38;5;28;43mself\u001b[39;49m\u001b[38;5;241;43m.\u001b[39;49m\u001b[43m_circuit\u001b[49m\u001b[43m(\u001b[49m\u001b[43mtheta\u001b[49m\u001b[43m,\u001b[49m\u001b[43m \u001b[49m\u001b[43mphi\u001b[49m\u001b[43m,\u001b[49m\u001b[43m \u001b[49m\u001b[43mlam\u001b[49m\u001b[43m,\u001b[49m\u001b[43m \u001b[49m\u001b[43mphase\u001b[49m\u001b[43m,\u001b[49m\u001b[43m \u001b[49m\u001b[43msimplify\u001b[49m\u001b[38;5;241;43m=\u001b[39;49m\u001b[43msimplify\u001b[49m\u001b[43m,\u001b[49m\u001b[43m \u001b[49m\u001b[43matol\u001b[49m\u001b[38;5;241;43m=\u001b[39;49m\u001b[43matol\u001b[49m\u001b[43m)\u001b[49m\n\u001b[1;32m    168\u001b[0m     \u001b[38;5;28;01mreturn\u001b[39;00m circuit\n",
      "File \u001b[0;32m~/opt/anaconda3/envs/qiskit_latest/lib/python3.10/site-packages/qiskit/quantum_info/synthesis/one_qubit_decompose.py:574\u001b[0m, in \u001b[0;36mOneQubitEulerDecomposer._circuit_zsxx\u001b[0;34m(theta, phi, lam, phase, simplify, atol)\u001b[0m\n\u001b[1;32m    571\u001b[0m \u001b[38;5;28;01mdef\u001b[39;00m \u001b[38;5;21mfnxpi\u001b[39m(circuit, qr):\n\u001b[1;32m    572\u001b[0m     circuit\u001b[38;5;241m.\u001b[39m_append(XGate(), [qr[\u001b[38;5;241m0\u001b[39m]], [])\n\u001b[0;32m--> 574\u001b[0m \u001b[38;5;28;01mreturn\u001b[39;00m \u001b[43mOneQubitEulerDecomposer\u001b[49m\u001b[38;5;241;43m.\u001b[39;49m\u001b[43m_circuit_psx_gen\u001b[49m\u001b[43m(\u001b[49m\n\u001b[1;32m    575\u001b[0m \u001b[43m    \u001b[49m\u001b[43mtheta\u001b[49m\u001b[43m,\u001b[49m\u001b[43m \u001b[49m\u001b[43mphi\u001b[49m\u001b[43m,\u001b[49m\u001b[43m \u001b[49m\u001b[43mlam\u001b[49m\u001b[43m,\u001b[49m\u001b[43m \u001b[49m\u001b[43mphase\u001b[49m\u001b[43m,\u001b[49m\u001b[43m \u001b[49m\u001b[43matol\u001b[49m\u001b[43m,\u001b[49m\u001b[43m \u001b[49m\u001b[43mfnz\u001b[49m\u001b[43m,\u001b[49m\u001b[43m \u001b[49m\u001b[43mfnx\u001b[49m\u001b[43m,\u001b[49m\u001b[43m \u001b[49m\u001b[43mfnxpi\u001b[49m\n\u001b[1;32m    576\u001b[0m \u001b[43m\u001b[49m\u001b[43m)\u001b[49m\n",
      "File \u001b[0;32m~/opt/anaconda3/envs/qiskit_latest/lib/python3.10/site-packages/qiskit/quantum_info/synthesis/one_qubit_decompose.py:474\u001b[0m, in \u001b[0;36mOneQubitEulerDecomposer._circuit_psx_gen\u001b[0;34m(theta, phi, lam, phase, atol, pfun, xfun, xpifun)\u001b[0m\n\u001b[1;32m    467\u001b[0m \u001b[38;5;129m@staticmethod\u001b[39m\n\u001b[1;32m    468\u001b[0m \u001b[38;5;28;01mdef\u001b[39;00m \u001b[38;5;21m_circuit_psx_gen\u001b[39m(theta, phi, lam, phase, atol, pfun, xfun, xpifun\u001b[38;5;241m=\u001b[39m\u001b[38;5;28;01mNone\u001b[39;00m):\n\u001b[1;32m    469\u001b[0m     \u001b[38;5;124;03m\"\"\"\u001b[39;00m\n\u001b[1;32m    470\u001b[0m \u001b[38;5;124;03m    Generic X90, phase decomposition\u001b[39;00m\n\u001b[1;32m    471\u001b[0m \n\u001b[1;32m    472\u001b[0m \u001b[38;5;124;03m    NOTE: `pfun` is responsible for eliding gates where appropriate (e.g., at angle value 0).\u001b[39;00m\n\u001b[1;32m    473\u001b[0m \u001b[38;5;124;03m    \"\"\"\u001b[39;00m\n\u001b[0;32m--> 474\u001b[0m     qr \u001b[38;5;241m=\u001b[39m \u001b[43mQuantumRegister\u001b[49m\u001b[43m(\u001b[49m\u001b[38;5;241;43m1\u001b[39;49m\u001b[43m,\u001b[49m\u001b[43m \u001b[49m\u001b[38;5;124;43m\"\u001b[39;49m\u001b[38;5;124;43mqr\u001b[39;49m\u001b[38;5;124;43m\"\u001b[39;49m\u001b[43m)\u001b[49m\n\u001b[1;32m    475\u001b[0m     circuit \u001b[38;5;241m=\u001b[39m QuantumCircuit(qr, global_phase\u001b[38;5;241m=\u001b[39mphase)\n\u001b[1;32m    476\u001b[0m     \u001b[38;5;66;03m# Early return for zero SX decomposition\u001b[39;00m\n",
      "File \u001b[0;32m~/opt/anaconda3/envs/qiskit_latest/lib/python3.10/site-packages/qiskit/circuit/register.py:124\u001b[0m, in \u001b[0;36mRegister.__init__\u001b[0;34m(self, size, name, bits)\u001b[0m\n\u001b[1;32m    122\u001b[0m     \u001b[38;5;28mself\u001b[39m\u001b[38;5;241m.\u001b[39m_bit_indices \u001b[38;5;241m=\u001b[39m {bit: idx \u001b[38;5;28;01mfor\u001b[39;00m idx, bit \u001b[38;5;129;01min\u001b[39;00m \u001b[38;5;28menumerate\u001b[39m(\u001b[38;5;28mself\u001b[39m\u001b[38;5;241m.\u001b[39m_bits)}\n\u001b[1;32m    123\u001b[0m \u001b[38;5;28;01melse\u001b[39;00m:\n\u001b[0;32m--> 124\u001b[0m     \u001b[38;5;28mself\u001b[39m\u001b[38;5;241m.\u001b[39m_bits \u001b[38;5;241m=\u001b[39m [\u001b[38;5;28mself\u001b[39m\u001b[38;5;241m.\u001b[39mbit_type(\u001b[38;5;28mself\u001b[39m, idx) \u001b[38;5;28;01mfor\u001b[39;00m idx \u001b[38;5;129;01min\u001b[39;00m \u001b[38;5;28mrange\u001b[39m(size)]\n\u001b[1;32m    126\u001b[0m     \u001b[38;5;66;03m# Since the hash of Bits created by the line above will depend upon\u001b[39;00m\n\u001b[1;32m    127\u001b[0m     \u001b[38;5;66;03m# the the hash of self, which is not guaranteed to have been initialized\u001b[39;00m\n\u001b[1;32m    128\u001b[0m     \u001b[38;5;66;03m# first on deepcopying or on pickling, so defer populating _bit_indices\u001b[39;00m\n\u001b[1;32m    129\u001b[0m     \u001b[38;5;66;03m# until first access.\u001b[39;00m\n\u001b[1;32m    130\u001b[0m     \u001b[38;5;28mself\u001b[39m\u001b[38;5;241m.\u001b[39m_bit_indices \u001b[38;5;241m=\u001b[39m \u001b[38;5;28;01mNone\u001b[39;00m\n",
      "File \u001b[0;32m~/opt/anaconda3/envs/qiskit_latest/lib/python3.10/site-packages/qiskit/circuit/register.py:124\u001b[0m, in \u001b[0;36m<listcomp>\u001b[0;34m(.0)\u001b[0m\n\u001b[1;32m    122\u001b[0m     \u001b[38;5;28mself\u001b[39m\u001b[38;5;241m.\u001b[39m_bit_indices \u001b[38;5;241m=\u001b[39m {bit: idx \u001b[38;5;28;01mfor\u001b[39;00m idx, bit \u001b[38;5;129;01min\u001b[39;00m \u001b[38;5;28menumerate\u001b[39m(\u001b[38;5;28mself\u001b[39m\u001b[38;5;241m.\u001b[39m_bits)}\n\u001b[1;32m    123\u001b[0m \u001b[38;5;28;01melse\u001b[39;00m:\n\u001b[0;32m--> 124\u001b[0m     \u001b[38;5;28mself\u001b[39m\u001b[38;5;241m.\u001b[39m_bits \u001b[38;5;241m=\u001b[39m [\u001b[38;5;28;43mself\u001b[39;49m\u001b[38;5;241;43m.\u001b[39;49m\u001b[43mbit_type\u001b[49m\u001b[43m(\u001b[49m\u001b[38;5;28;43mself\u001b[39;49m\u001b[43m,\u001b[49m\u001b[43m \u001b[49m\u001b[43midx\u001b[49m\u001b[43m)\u001b[49m \u001b[38;5;28;01mfor\u001b[39;00m idx \u001b[38;5;129;01min\u001b[39;00m \u001b[38;5;28mrange\u001b[39m(size)]\n\u001b[1;32m    126\u001b[0m     \u001b[38;5;66;03m# Since the hash of Bits created by the line above will depend upon\u001b[39;00m\n\u001b[1;32m    127\u001b[0m     \u001b[38;5;66;03m# the the hash of self, which is not guaranteed to have been initialized\u001b[39;00m\n\u001b[1;32m    128\u001b[0m     \u001b[38;5;66;03m# first on deepcopying or on pickling, so defer populating _bit_indices\u001b[39;00m\n\u001b[1;32m    129\u001b[0m     \u001b[38;5;66;03m# until first access.\u001b[39;00m\n\u001b[1;32m    130\u001b[0m     \u001b[38;5;28mself\u001b[39m\u001b[38;5;241m.\u001b[39m_bit_indices \u001b[38;5;241m=\u001b[39m \u001b[38;5;28;01mNone\u001b[39;00m\n",
      "File \u001b[0;32m~/opt/anaconda3/envs/qiskit_latest/lib/python3.10/site-packages/qiskit/circuit/quantumregister.py:39\u001b[0m, in \u001b[0;36mQubit.__init__\u001b[0;34m(self, register, index)\u001b[0m\n\u001b[1;32m     28\u001b[0m \u001b[38;5;28;01mdef\u001b[39;00m \u001b[38;5;21m__init__\u001b[39m(\u001b[38;5;28mself\u001b[39m, register\u001b[38;5;241m=\u001b[39m\u001b[38;5;28;01mNone\u001b[39;00m, index\u001b[38;5;241m=\u001b[39m\u001b[38;5;28;01mNone\u001b[39;00m):\n\u001b[1;32m     29\u001b[0m     \u001b[38;5;124;03m\"\"\"Creates a qubit.\u001b[39;00m\n\u001b[1;32m     30\u001b[0m \n\u001b[1;32m     31\u001b[0m \u001b[38;5;124;03m    Args:\u001b[39;00m\n\u001b[0;32m   (...)\u001b[0m\n\u001b[1;32m     36\u001b[0m \u001b[38;5;124;03m        CircuitError: if the provided register is not a valid :class:`QuantumRegister`\u001b[39;00m\n\u001b[1;32m     37\u001b[0m \u001b[38;5;124;03m    \"\"\"\u001b[39;00m\n\u001b[0;32m---> 39\u001b[0m     \u001b[38;5;28;01mif\u001b[39;00m register \u001b[38;5;129;01mis\u001b[39;00m \u001b[38;5;28;01mNone\u001b[39;00m \u001b[38;5;129;01mor\u001b[39;00m \u001b[38;5;28;43misinstance\u001b[39;49m\u001b[43m(\u001b[49m\u001b[43mregister\u001b[49m\u001b[43m,\u001b[49m\u001b[43m \u001b[49m\u001b[43mQuantumRegister\u001b[49m\u001b[43m)\u001b[49m:\n\u001b[1;32m     40\u001b[0m         \u001b[38;5;28msuper\u001b[39m()\u001b[38;5;241m.\u001b[39m\u001b[38;5;21m__init__\u001b[39m(register, index)\n\u001b[1;32m     41\u001b[0m     \u001b[38;5;28;01melse\u001b[39;00m:\n",
      "\u001b[0;31mKeyboardInterrupt\u001b[0m: "
     ]
    }
   ],
   "source": [
    "#Circuit size 512\n",
    "temps = np.linspace(0.01, 15, 20)\n",
    "df = pd.DataFrame()\n",
    "\n",
    "magnetization = []\n",
    "for temp in temps:\n",
    "    qc = phase_space_sweep(temp, 512)\n",
    "    prob, state, mag = measure_state(qc, sim)\n",
    "    magnetization.append(mag)\n",
    "df['kT'] = temps\n",
    "df['Magnetization'] = magnetization\n",
    "\n",
    "df.to_csv('Circuit 512_Samples 1_statevector.csv')"
   ]
  },
  {
   "cell_type": "code",
   "execution_count": null,
   "metadata": {},
   "outputs": [],
   "source": []
  }
 ],
 "metadata": {
  "kernelspec": {
   "display_name": "Python 3 (ipykernel)",
   "language": "python",
   "name": "python3"
  },
  "language_info": {
   "codemirror_mode": {
    "name": "ipython",
    "version": 3
   },
   "file_extension": ".py",
   "mimetype": "text/x-python",
   "name": "python",
   "nbconvert_exporter": "python",
   "pygments_lexer": "ipython3",
   "version": "3.10.4"
  }
 },
 "nbformat": 4,
 "nbformat_minor": 2
}
