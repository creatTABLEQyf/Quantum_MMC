{
 "cells": [
  {
   "cell_type": "code",
   "execution_count": 12,
   "metadata": {},
   "outputs": [],
   "source": [
    "import qiskit\n",
    "from qiskit import assemble, QuantumCircuit\n",
    "from qiskit.visualization import plot_histogram\n",
    "from qiskit.compiler import transpile\n",
    "from random import *\n",
    "from qiskit import Aer\n",
    "sim = Aer.get_backend(\"statevector_simulator\")\n",
    "import numpy as np\n",
    "import pandas as pd\n",
    "from qiskit.circuit.library.standard_gates import HGate\n",
    "from qiskit.circuit.library import RZGate, RYGate\n",
    "import matplotlib.pyplot as plt\n",
    "from IPython.display import clear_output"
   ]
  },
  {
   "cell_type": "code",
   "execution_count": 13,
   "metadata": {},
   "outputs": [],
   "source": [
    "def neighbor_list(i, j, N):\n",
    "  a = i-1\n",
    "  b = j-1\n",
    "  c = i+1 \n",
    "  d = j+1 \n",
    "  if a < 0: \n",
    "      a = N-1\n",
    "  if b < 0: \n",
    "      b = N-1\n",
    "  if c > N-1: \n",
    "      c = 0 \n",
    "  if d > N-1: \n",
    "      d = 0\n",
    "  left   = (a, j)\n",
    "  above  = (i, b)\n",
    "  right  = (c, j)\n",
    "  below  = (i, d)\n",
    "  return [left, above, right, below]"
   ]
  },
  {
   "cell_type": "code",
   "execution_count": 14,
   "metadata": {},
   "outputs": [],
   "source": [
    "spin, N = 16, 4"
   ]
  },
  {
   "cell_type": "code",
   "execution_count": 20,
   "metadata": {},
   "outputs": [],
   "source": [
    "def single_step_qc(i, temp): \n",
    "    global N, spin \n",
    "    prob1= np.exp(-8/temp)\n",
    "    angle1 = 2*np.arccos(np.sqrt(prob1))\n",
    "    prob2 = np.exp(-4/temp)\n",
    "    angle2 = 2*np.arccos(np.sqrt(prob2))\n",
    "    ### construct neighbor qubit \n",
    "    ising = np.arange(0, N**2).reshape(N,N)\n",
    "    index = np.where(i==ising)\n",
    "    neighbor_qubit = []\n",
    "    for k in neighbor_list(index[0], index[1],N):\n",
    "        neighbor_qubit.append(ising[k][0])\n",
    "    ### construct circuit \n",
    "    qc = QuantumCircuit(spin+4)\n",
    "    aux_qubit = [spin, spin+1, spin+2, spin+3]\n",
    "    # flip first \n",
    "    qc.x(i)\n",
    "    qc.barrier()\n",
    "    for j in range(4): \n",
    "        qc.cx(i, aux_qubit[j])\n",
    "        qc.cx(neighbor_qubit[j], aux_qubit[j])\n",
    "    # rotate or not depends on sign\n",
    "    #####################situation 1 : all same signs #####################\n",
    "    [aux1, aux2, aux3, aux4] = aux_qubit\n",
    "    # default is ferromagnetic\n",
    "    mcry= RYGate(angle1).control(4,label=None )\n",
    "    qc.append(mcry,[aux1, aux2, aux3, aux4, i])\n",
    "    #####################situation 2 : 3 same signs, 1 different signs #####################\n",
    "    mcry_1= RYGate(angle2).control(4,label=None )\n",
    "    mcry_2= RYGate(angle2).control(4,label=None )\n",
    "    mcry_3= RYGate(angle2).control(4,label=None )\n",
    "    mcry_4= RYGate(angle2).control(4,label=None )\n",
    "    mcry_1._ctrl_state=14\n",
    "    mcry_2._ctrl_state=13\n",
    "    mcry_3._ctrl_state=11\n",
    "    mcry_4._ctrl_state=7\n",
    "    qc.append(mcry_1, [aux1, aux2, aux3, aux4, i])\n",
    "    qc.append(mcry_2, [aux1, aux2, aux3, aux4, i])\n",
    "    qc.append(mcry_3, [aux1, aux2, aux3, aux4, i])\n",
    "    qc.append(mcry_4, [aux1, aux2, aux3, aux4, i])\n",
    "    qc.barrier()\n",
    "    qc.measure_all\n",
    "    return qc"
   ]
  },
  {
   "cell_type": "code",
   "execution_count": 21,
   "metadata": {},
   "outputs": [],
   "source": [
    "def cal_M(state):\n",
    "    M = 0\n",
    "    for i in state:\n",
    "        if i == '1': \n",
    "            M += 1\n",
    "        else: \n",
    "            M -= 1 \n",
    "    return M/16"
   ]
  },
  {
   "cell_type": "code",
   "execution_count": 22,
   "metadata": {},
   "outputs": [],
   "source": [
    "def phase_space_sweep(temp, circuit_size = 32):\n",
    "    # MC_sweep\n",
    "    qc = QuantumCircuit(spin+4)\n",
    "    # for 4x4 ising model at least need to repeat 16 circuits to get all basis (2**16)\n",
    "    # I used 32 to make sure that we can cover the whole phase space\n",
    "    # could change this number\n",
    "    for _ in range(circuit_size):\n",
    "        pick = randint(0, spin-1)\n",
    "        qc.compose(single_step_qc(pick, temp), inplace=True)\n",
    "    return qc"
   ]
  },
  {
   "cell_type": "code",
   "execution_count": 23,
   "metadata": {},
   "outputs": [],
   "source": [
    "def measure_state(qc, sim): \n",
    "    qc = transpile(qc,sim)\n",
    "    final_counts = sim.run(qc, shots=8192).result().get_counts()\n",
    "    prob, state = max(final_counts.values()), max(final_counts, key = final_counts.get)\n",
    "    mag = abs(cal_M(state))\n",
    "    return prob, 'st:'+state, mag\n",
    "\n",
    "def measure(circuit):\n",
    "    circuit.remove_final_measurements()\n",
    "    circuit.measure_all()\n",
    "    backend = Aer.get_backend('statevector_simulator')\n",
    "    circuit = transpile(circuit, backend )\n",
    "    final_counts = backend.run(circuit, shots=1).result().get_counts()\n",
    "    print(final_counts)\n",
    "    state = max(final_counts, key= final_counts.get)[4:]\n",
    "    mag = abs(cal_M(state))\n",
    "    print(\"Most probably state: \", state)\n",
    "    print(\"Magnetization: \", mag) \n",
    "    return state, mag"
   ]
  },
  {
   "cell_type": "code",
   "execution_count": 10,
   "metadata": {},
   "outputs": [
    {
     "name": "stdout",
     "output_type": "stream",
     "text": [
      "0.019267985132501\n",
      "01010010111000100101\n",
      "CPU times: user 20.3 s, sys: 2.6 s, total: 22.9 s\n",
      "Wall time: 10.8 s\n"
     ]
    }
   ],
   "source": [
    "%%time\n",
    "qc = phase_space_sweep(4)\n",
    "superpositions = measure_state(qc, sim)\n",
    "f_prob, f_state = max(superpositions.values()), max(superpositions, key = superpositions.get)\n",
    "print(f_prob)\n",
    "print(f_state)"
   ]
  },
  {
   "cell_type": "code",
   "execution_count": 11,
   "metadata": {},
   "outputs": [
    {
     "name": "stdout",
     "output_type": "stream",
     "text": [
      "-0.125\n"
     ]
    }
   ],
   "source": [
    "print(cal_M(f_state))"
   ]
  },
  {
   "cell_type": "code",
   "execution_count": 24,
   "metadata": {},
   "outputs": [],
   "source": [
    "# Average of many results from circuit size 32\n",
    "temps = np.linspace(0.01, 15, 20)\n",
    "df = pd.DataFrame()\n",
    "\n",
    "for temp in temps:\n",
    "    magnetization = []\n",
    "    for i in range(10):\n",
    "        qc = phase_space_sweep(temp)\n",
    "        prob, state, mag = measure_state(qc, sim)\n",
    "        magnetization.append(mag)\n",
    "    df['kT='+str(temp)] = magnetization\n",
    "\n",
    "df.to_csv('Circuit 32_Samples 10_statevector shots=8192, with measurements.csv')"
   ]
  },
  {
   "cell_type": "code",
   "execution_count": 9,
   "metadata": {},
   "outputs": [],
   "source": [
    "# Average of many results from circuit size 64\n",
    "temps = np.linspace(0.01, 15, 20)\n",
    "df = pd.DataFrame()\n",
    "\n",
    "for temp in temps:\n",
    "    magnetization = []\n",
    "    for i in range(10):\n",
    "        qc = phase_space_sweep(temp, 64)\n",
    "        prob, state, mag = measure_state(qc, sim)\n",
    "        magnetization.append(mag)\n",
    "    df['kT='+str(temp)] = magnetization\n",
    "\n",
    "df.to_csv('Circuit 64_Samples 10_statevector shots=8192.csv')"
   ]
  },
  {
   "cell_type": "code",
   "execution_count": 10,
   "metadata": {},
   "outputs": [],
   "source": [
    "#Circuit size 256\n",
    "temps = np.linspace(0.01, 15, 20)\n",
    "df = pd.DataFrame()\n",
    "\n",
    "magnetization = []\n",
    "for temp in temps:\n",
    "    qc = phase_space_sweep(temp, 256)\n",
    "    prob, state, mag = measure_state(qc, sim)\n",
    "    magnetization.append(mag)\n",
    "df['kT'] = temps\n",
    "df['Magnetization'] = magnetization\n",
    "\n",
    "df.to_csv('Circuit 256_Samples 1_statevector shots=8192.csv')"
   ]
  },
  {
   "cell_type": "code",
   "execution_count": 11,
   "metadata": {},
   "outputs": [],
   "source": [
    "#Circuit size 512\n",
    "temps = np.linspace(0.01, 15, 20)\n",
    "df = pd.DataFrame()\n",
    "\n",
    "magnetization = []\n",
    "for temp in temps:\n",
    "    qc = phase_space_sweep(temp, 512)\n",
    "    prob, state, mag = measure_state(qc, sim)\n",
    "    magnetization.append(mag)\n",
    "df['kT'] = temps\n",
    "df['Magnetization'] = magnetization\n",
    "\n",
    "df.to_csv('Circuit 512_Samples 1_statevector shots=8192.csv')"
   ]
  },
  {
   "cell_type": "code",
   "execution_count": null,
   "metadata": {},
   "outputs": [],
   "source": []
  }
 ],
 "metadata": {
  "kernelspec": {
   "display_name": "Python 3 (ipykernel)",
   "language": "python",
   "name": "python3"
  },
  "language_info": {
   "codemirror_mode": {
    "name": "ipython",
    "version": 3
   },
   "file_extension": ".py",
   "mimetype": "text/x-python",
   "name": "python",
   "nbconvert_exporter": "python",
   "pygments_lexer": "ipython3",
   "version": "3.10.4"
  }
 },
 "nbformat": 4,
 "nbformat_minor": 2
}
